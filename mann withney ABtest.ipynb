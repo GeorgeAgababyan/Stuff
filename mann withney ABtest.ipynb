{
 "cells": [
  {
   "cell_type": "code",
   "execution_count": 3,
   "id": "50a9edb8",
   "metadata": {},
   "outputs": [],
   "source": [
    "import pandas as pd\n",
    "import matplotlib.pyplot as plt\n",
    "import numpy as np\n",
    "from numpy.random import seed\n",
    "from numpy.random import randn\n",
    "import scipy.stats\n",
    "from scipy import stats\n",
    "from scipy.stats import ttest_ind\n",
    "from scipy.stats import mannwhitneyu"
   ]
  },
  {
   "cell_type": "code",
   "execution_count": 4,
   "id": "ba297aa4",
   "metadata": {},
   "outputs": [],
   "source": [
    "# Убираем тестеров\n",
    "df = pd.read_csv(r'C:\\Users\\Георгий\\Projects\\46519317-57f0-40df-920b-e0af4d8d54bd.csv')"
   ]
  },
  {
   "cell_type": "code",
   "execution_count": 5,
   "id": "a91727fb",
   "metadata": {},
   "outputs": [],
   "source": [
    "# Определяем группы А и Б\n",
    "dftest = df[df['testGroup'].isin(['ComplementOffersA', 'ComplementOffersB'])].drop('count', 1)\n",
    "\n",
    "a_group = dftest[dftest['testGroup'] == 'ComplementOffersA']\n",
    "b_group = dftest[dftest['testGroup'] == 'ComplementOffersB']"
   ]
  },
  {
   "cell_type": "code",
   "execution_count": 6,
   "id": "acacabcb",
   "metadata": {},
   "outputs": [],
   "source": [
    "# Делим группы по платформам\n",
    "a_group_ios = a_group[a_group['platform'] == 'IPhonePlayer']\n",
    "b_group_ios = b_group[b_group['platform'] == 'IPhonePlayer']\n",
    "a_group_andr = a_group[a_group['platform'] == 'Android']\n",
    "b_group_andr = b_group[b_group['platform'] == 'Android']"
   ]
  },
  {
   "cell_type": "code",
   "execution_count": 7,
   "id": "4f431ed6",
   "metadata": {},
   "outputs": [
    {
     "name": "stdout",
     "output_type": "stream",
     "text": [
      "a_group_ios - Экстремальные значения выборки для параметра LTV_2  17.740000000000002 -6.980000000000001\n",
      "a_group_ios - Экстремальные значения выборки для параметра LTV_7  22.740000000000002 -9.98\n"
     ]
    }
   ],
   "source": [
    "# Определяем Межквартильный размах(МКР) для каждого\n",
    "#МКР это разница между 75% и 25% квартилем. \n",
    "#Значения 25% перцентили минус 1.5 х МКР\n",
    "#Значения 75% перцентили плюс 1.5 х МКР\n",
    "copy = a_group_ios[(a_group_ios['LTV_2'] > 0) & ((a_group_ios['LTV_2'] > 0) )]\n",
    "too_big = copy['LTV_2'].quantile(0.75) + 1.5 * (copy['LTV_2'].quantile(0.75) - copy['LTV_2'].quantile(0.25))\n",
    "too_small = copy['LTV_2'].quantile(0.25) - 1.5* (copy['LTV_2'].quantile(0.75) - copy['LTV_2'].quantile(0.25))\n",
    "print('a_group_ios - Экстремальные значения выборки для параметра LTV_2 ', too_big, too_small)\n",
    "\n",
    "too_big = copy['LTV_7'].quantile(0.75) + 1.5 * (copy['LTV_7'].quantile(0.75) - copy['LTV_7'].quantile(0.25))\n",
    "too_small = copy['LTV_7'].quantile(0.25) - 1.5* (copy['LTV_7'].quantile(0.75) - copy['LTV_7'].quantile(0.25))\n",
    "print('a_group_ios - Экстремальные значения выборки для параметра LTV_7 ', too_big, too_small)"
   ]
  },
  {
   "cell_type": "code",
   "execution_count": 8,
   "id": "8094fcee",
   "metadata": {},
   "outputs": [
    {
     "name": "stdout",
     "output_type": "stream",
     "text": [
      "b_group_ios - Экстремальные значения выборки для параметра LTV_2  21.54 -9.260000000000002\n",
      "b_group_ios - Экстремальные значения выборки для параметра LTV_7  24.265 -10.895\n"
     ]
    }
   ],
   "source": [
    "#МКР это разница между 75% и 25% квартилем. \n",
    "#Значения 25% перцентили минус 1.5 х МКР\n",
    "#Значения 75% перцентили плюс 1.5 х МКР\n",
    "copy = b_group_ios[(b_group_ios['LTV_2'] > 0) & ((b_group_ios['LTV_2'] > 0) )]\n",
    "too_big = copy['LTV_2'].quantile(0.75) + 1.5 * (copy['LTV_2'].quantile(0.75) - copy['LTV_2'].quantile(0.25))\n",
    "too_small = copy['LTV_2'].quantile(0.25) - 1.5* (copy['LTV_2'].quantile(0.75) - copy['LTV_2'].quantile(0.25))\n",
    "print('b_group_ios - Экстремальные значения выборки для параметра LTV_2 ', too_big, too_small)\n",
    "\n",
    "too_big = copy['LTV_7'].quantile(0.75) + 1.5 * (copy['LTV_7'].quantile(0.75) - copy['LTV_7'].quantile(0.25))\n",
    "too_small = copy['LTV_7'].quantile(0.25) - 1.5* (copy['LTV_7'].quantile(0.75) - copy['LTV_7'].quantile(0.25))\n",
    "print('b_group_ios - Экстремальные значения выборки для параметра LTV_7 ', too_big, too_small)"
   ]
  },
  {
   "cell_type": "code",
   "execution_count": 9,
   "id": "09d6e579",
   "metadata": {},
   "outputs": [
    {
     "name": "stdout",
     "output_type": "stream",
     "text": [
      "a_group_andr - Экстремальные значения выборки для параметра LTV_2  14.015 -4.745\n",
      "a_group_andr - Экстремальные значения выборки для параметра LTV_7  19.240000000000002 -7.88\n"
     ]
    }
   ],
   "source": [
    "#МКР это разница между 75% и 25% квартилем. \n",
    "#Значения 25% перцентили минус 1.5 х МКР\n",
    "#Значения 75% перцентили плюс 1.5 х МКР\n",
    "copy = a_group_andr[(a_group_andr['LTV_2'] > 0) & ((a_group_andr['LTV_2'] > 0) )]\n",
    "too_big = copy['LTV_2'].quantile(0.75) + 1.5 * (copy['LTV_2'].quantile(0.75) - copy['LTV_2'].quantile(0.25))\n",
    "too_small = copy['LTV_2'].quantile(0.25) - 1.5* (copy['LTV_2'].quantile(0.75) - copy['LTV_2'].quantile(0.25))\n",
    "print('a_group_andr - Экстремальные значения выборки для параметра LTV_2 ', too_big, too_small)\n",
    "\n",
    "too_big = copy['LTV_7'].quantile(0.75) + 1.5 * (copy['LTV_7'].quantile(0.75) - copy['LTV_7'].quantile(0.25))\n",
    "too_small = copy['LTV_7'].quantile(0.25) - 1.5* (copy['LTV_7'].quantile(0.75) - copy['LTV_7'].quantile(0.25))\n",
    "print('a_group_andr - Экстремальные значения выборки для параметра LTV_7 ', too_big, too_small)"
   ]
  },
  {
   "cell_type": "code",
   "execution_count": 10,
   "id": "21db5638",
   "metadata": {},
   "outputs": [
    {
     "name": "stdout",
     "output_type": "stream",
     "text": [
      "b_group_andr - Экстремальные значения выборки для параметра LTV_2  16.07125 -5.978750000000001\n",
      "b_group_andr - Экстремальные значения выборки для параметра LTV_7  24.740000000000002 -11.18\n"
     ]
    }
   ],
   "source": [
    "#МКР это разница между 75% и 25% квартилем. \n",
    "#Значения 25% перцентили минус 1.5 х МКР\n",
    "#Значения 75% перцентили плюс 1.5 х МКР\n",
    "copy = b_group_andr[(b_group_andr['LTV_2'] > 0) & ((b_group_andr['LTV_2'] > 0) )]\n",
    "too_big = copy['LTV_2'].quantile(0.75) + 1.5 * (copy['LTV_2'].quantile(0.75) - copy['LTV_2'].quantile(0.25))\n",
    "too_small = copy['LTV_2'].quantile(0.25) - 1.5* (copy['LTV_2'].quantile(0.75) - copy['LTV_2'].quantile(0.25))\n",
    "print('b_group_andr - Экстремальные значения выборки для параметра LTV_2 ', too_big, too_small)\n",
    "\n",
    "too_big = copy['LTV_7'].quantile(0.75) + 1.5 * (copy['LTV_7'].quantile(0.75) - copy['LTV_7'].quantile(0.25))\n",
    "too_small = copy['LTV_7'].quantile(0.25) - 1.5* (copy['LTV_7'].quantile(0.75) - copy['LTV_7'].quantile(0.25))\n",
    "print('b_group_andr - Экстремальные значения выборки для параметра LTV_7 ', too_big, too_small)"
   ]
  },
  {
   "cell_type": "code",
   "execution_count": 11,
   "id": "dfaaa529",
   "metadata": {},
   "outputs": [],
   "source": [
    "# Убираем выбросы согласно МКР +- на глаз\n",
    "\n",
    "a_group_ios = a_group_ios[a_group_ios['LTV_2'] <= 22]\n",
    "a_group_ios = a_group_ios[a_group_ios['LTV_7'] <= 27]\n",
    "a_group_andr = a_group_andr[a_group_andr['LTV_2'] <= 17]\n",
    "a_group_andr = a_group_andr[a_group_andr['LTV_7'] <= 22]\n",
    "\n",
    "b_group_ios = b_group_ios[b_group_ios['LTV_2'] <= 26]\n",
    "b_group_ios = b_group_ios[b_group_ios['LTV_7'] <= 30]\n",
    "b_group_andr = b_group_andr[b_group_andr['LTV_2'] <= 20]\n",
    "b_group_andr = b_group_andr[b_group_andr['LTV_7'] <= 28]"
   ]
  },
  {
   "cell_type": "code",
   "execution_count": 12,
   "id": "3853e512",
   "metadata": {},
   "outputs": [
    {
     "data": {
      "text/plain": [
       "(0.02761454647867486, 0.04514160989949117)"
      ]
     },
     "execution_count": 12,
     "metadata": {},
     "output_type": "execute_result"
    }
   ],
   "source": [
    "# Смотрим средние\n",
    "a_group_ios['LTV_2'].mean(), a_group_ios['LTV_7'].mean()"
   ]
  },
  {
   "cell_type": "code",
   "execution_count": 13,
   "id": "300a460f",
   "metadata": {},
   "outputs": [
    {
     "data": {
      "text/plain": [
       "(1604944207.5, 0.45544629275494475)"
      ]
     },
     "execution_count": 13,
     "metadata": {},
     "output_type": "execute_result"
    }
   ],
   "source": [
    "# Тест МаннаУитни\n",
    "stat, p = mannwhitneyu(a_group_ios['LTV_2'], b_group_ios['LTV_2'])\n",
    "stat, p"
   ]
  },
  {
   "cell_type": "code",
   "execution_count": 14,
   "id": "9504b4f3",
   "metadata": {},
   "outputs": [
    {
     "name": "stdout",
     "output_type": "stream",
     "text": [
      "Same distribution (fail to reject H0)\n"
     ]
    }
   ],
   "source": [
    "# Результат теста\n",
    "alpha = 0.05\n",
    "if p > alpha:\n",
    "    print('Same distribution (fail to reject H0)')\n",
    "else:\n",
    "    print('Different distribution (reject H0)')"
   ]
  },
  {
   "cell_type": "code",
   "execution_count": 15,
   "id": "a3de922f",
   "metadata": {},
   "outputs": [],
   "source": [
    "# Описываем функцию, которая определяет доверительный интервал\n",
    "def mean_confidence_interval(data, confidence=0.95):\n",
    "    a = 1.0 * np.array(data)\n",
    "    n = len(a)\n",
    "    m, se = np.mean(a), scipy.stats.sem(a)\n",
    "    h = se * scipy.stats.t.ppf((1 + confidence) / 2., n-1)\n",
    "    return m-h, m, m+h"
   ]
  },
  {
   "cell_type": "code",
   "execution_count": 16,
   "id": "8938b9e8",
   "metadata": {},
   "outputs": [
    {
     "data": {
      "text/plain": [
       "(0.01248219578589805, 0.01446720795568983, 0.01645222012548161)"
      ]
     },
     "execution_count": 16,
     "metadata": {},
     "output_type": "execute_result"
    }
   ],
   "source": [
    "# тут и далее находим доверительные интервалы для выборок\n",
    "mean_confidence_interval(a_group_andr['LTV_2'], confidence=0.95)"
   ]
  },
  {
   "cell_type": "code",
   "execution_count": 17,
   "id": "da65147d",
   "metadata": {},
   "outputs": [
    {
     "data": {
      "text/plain": [
       "(0.01248219578589805, 0.01446720795568983, 0.01645222012548161)"
      ]
     },
     "execution_count": 17,
     "metadata": {},
     "output_type": "execute_result"
    }
   ],
   "source": [
    "mean_confidence_interval(a_group_andr['LTV_2'], confidence=0.95)"
   ]
  },
  {
   "cell_type": "code",
   "execution_count": 18,
   "id": "e772c614",
   "metadata": {},
   "outputs": [
    {
     "data": {
      "text/plain": [
       "(0.023745380017795976, 0.027074532602785563, 0.03040368518777515)"
      ]
     },
     "execution_count": 18,
     "metadata": {},
     "output_type": "execute_result"
    }
   ],
   "source": [
    "mean_confidence_interval(b_group_andr['LTV_7'], confidence=0.95)"
   ]
  },
  {
   "cell_type": "code",
   "execution_count": 19,
   "id": "b2385cc7",
   "metadata": {},
   "outputs": [
    {
     "data": {
      "text/plain": [
       "(0.023745380017795976, 0.027074532602785563, 0.03040368518777515)"
      ]
     },
     "execution_count": 19,
     "metadata": {},
     "output_type": "execute_result"
    }
   ],
   "source": [
    "mean_confidence_interval(b_group_andr['LTV_7'], confidence=0.95)"
   ]
  },
  {
   "cell_type": "code",
   "execution_count": 20,
   "id": "a6f2330f",
   "metadata": {},
   "outputs": [
    {
     "data": {
      "image/png": "[encoded data removed]",
      "text/plain": [
       "<Figure size 432x288 with 1 Axes>"
      ]
     },
     "metadata": {
      "needs_background": "light"
     },
     "output_type": "display_data"
    }
   ],
   "source": [
    "# Строим доверительные интервалы, в переменных data_dict записываем полученные раннее интервалы\n",
    "data_dict = {}\n",
    "data_dict['category'] = ['A_LTV_2','B_LTV_2','A_LTV_7','B_LTV_7']\n",
    "data_dict['lower'] = [0.0179284955583883, 0.01976633480932951, 0.03120017987049553, 0.03442411099426219]\n",
    "data_dict['upper'] = [0.021767960068966963, 0.02426898934093419, 0.03679673806633514, 0.0409254374112269]\n",
    "dataset = pd.DataFrame(data_dict)\n",
    "for lower,upper,y in zip(dataset['lower'],dataset['upper'],range(len(dataset))):\n",
    "    plt.plot((lower,upper),(y,y),'ro-',color='orange')\n",
    "plt.yticks(range(len(dataset)),list(dataset['category']))\n",
    "plt.show()"
   ]
  },
  {
   "cell_type": "code",
   "execution_count": null,
   "id": "0e136a09",
   "metadata": {},
   "outputs": [],
   "source": []
  }
 ],
 "metadata": {
  "kernelspec": {
   "display_name": "Python 3",
   "language": "python",
   "name": "python3"
  },
  "language_info": {
   "codemirror_mode": {
    "name": "ipython",
    "version": 3
   },
   "file_extension": ".py",
   "mimetype": "text/x-python",
   "name": "python",
   "nbconvert_exporter": "python",
   "pygments_lexer": "ipython3",
   "version": "3.8.8"
  }
 },
 "nbformat": 4,
 "nbformat_minor": 5
}
